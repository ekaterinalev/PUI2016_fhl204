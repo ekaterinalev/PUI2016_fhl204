{
 "cells": [
  {
   "cell_type": "markdown",
   "metadata": {},
   "source": [
    "# Assignment 3\n",
    "\n",
    "Author: fhl204\n"
   ]
  },
  {
   "cell_type": "markdown",
   "metadata": {},
   "source": [
    "What if we used the values for where the former inmate was or was not \"Convicted of a felony\" (row 10) in the Recidivism (Years 1-3)?\n",
    "\n",
    "# NULL HYPOTHESIS: the % of former prisoners convicted of a felony within 1-3 years after release is the same or higher for candidates who participated in the program as for the control group, significance level p=0.05\n",
    "\n",
    "# $H_0: P_0 - P_1 \\geq$    0\n",
    "    \n",
    "# $H_a: P_0 - P_1 $< 0      \n",
    "    \n",
    "# $\\alpha$ = 0.05    \n",
    "\n",
    "# $P_0 = 0.117, P_1= 0.100$\n"
   ]
  },
  {
   "cell_type": "code",
   "execution_count": 14,
   "metadata": {
    "collapsed": true
   },
   "outputs": [],
   "source": [
    "import os\n",
    "import sys\n",
    "import numpy as np\n",
    "import pylab as pl\n",
    "import json\n",
    "import os"
   ]
  },
  {
   "cell_type": "code",
   "execution_count": 27,
   "metadata": {
    "collapsed": false
   },
   "outputs": [
    {
     "name": "stdout",
     "output_type": "stream",
     "text": [
      "0.107116683726\n"
     ]
    }
   ],
   "source": [
    "P_0 = 11.7 * 0.01\n",
    "P_1 = 10.0 * 0.01\n",
    "\n",
    "n_0 = 409\n",
    "n_1 = 568\n",
    "\n",
    "#lets get the counts by multiplying by the sample size\n",
    "Nt_0 = P_0 * n_0\n",
    "Nt_1 = P_1 * n_1\n",
    "\n",
    "#define the sample proportion first\n",
    "sp = (P_0 * n_0 + P_1 * n_1) / (n_1 + n_0)\n",
    "print (sp)"
   ]
  },
  {
   "cell_type": "code",
   "execution_count": 30,
   "metadata": {
    "collapsed": false
   },
   "outputs": [],
   "source": [
    "#Function to calculate p\n",
    "p = lambda p0, p1, n0, n1: (p0 * n0 + p1 * n1) / (n0 + n1)\n",
    "#standard error\n",
    "se = lambda p, n0, n1: np.sqrt(p * (1 - p) * (1.0 / n0 + 1.0 / n1)) "
   ]
  },
  {
   "cell_type": "code",
   "execution_count": 32,
   "metadata": {
    "collapsed": false
   },
   "outputs": [
    {
     "name": "stdout",
     "output_type": "stream",
     "text": [
      "0.84764020522\n"
     ]
    }
   ],
   "source": [
    "zscore = lambda p0, p1, s : (p0 - p1) / s\n",
    "z_3y = zscore(P_0, P_1, se(p(P_0, P_1, n_0, n_1), n_0, n_1))\n",
    "\n",
    "print (z_3y)"
   ]
  },
  {
   "cell_type": "code",
   "execution_count": 35,
   "metadata": {
    "collapsed": false
   },
   "outputs": [
    {
     "name": "stdout",
     "output_type": "stream",
     "text": [
      "0.1977\n"
     ]
    }
   ],
   "source": [
    "p_3y = 1 - 0.8023\n",
    "\n",
    "print (p_3y)"
   ]
  },
  {
   "cell_type": "code",
   "execution_count": 37,
   "metadata": {
    "collapsed": false
   },
   "outputs": [
    {
     "name": "stdout",
     "output_type": "stream",
     "text": [
      "is the p value 0.20 smaller than the critical value 0.05? \n",
      "NO!\n",
      "the Null hypothesis is not rejected\n"
     ]
    }
   ],
   "source": [
    "def report_result(p,a):\n",
    "    print ('is the p value {0:.2f} smaller than the critical value {1:.2f}? '.format(p,a))\n",
    "    if p < a:\n",
    "        print (\"YES!\")\n",
    "    else: \n",
    "        print (\"NO!\")    \n",
    "    print ('the Null hypothesis is {}'.format( 'rejected' if p < a  else 'not rejected') )  \n",
    "\n",
    "report_result(p_3y,alpha)"
   ]
  },
  {
   "cell_type": "markdown",
   "metadata": {},
   "source": [
    "# What the chi sq statistics says about the conviction for fellonies (row 10)"
   ]
  },
  {
   "cell_type": "markdown",
   "metadata": {},
   "source": [
    "## fill in the contingency table below\n",
    "\n",
    "\n",
    "|convicted of a felony      |     employed          | not employed     |                   \n",
    "|---------------------------|:---------------------:|------------------|---------------------------|\n",
    "| test sample               | $0.100*568$           | $0.900*568$      | 568                       |\n",
    "| control sample            | $0.117*409$           | $0.965*409$      | 409                       |\n",
    "|                           |                       |                  |                           |\n",
    "| total                     | 104.653               | 872.347          | 977                       |"
   ]
  },
  {
   "cell_type": "markdown",
   "metadata": {
    "collapsed": true
   },
   "source": []
  }
 ],
 "metadata": {
  "kernelspec": {
   "display_name": "PUI2016_Python2",
   "language": "python",
   "name": "pui2016_python2"
  },
  "language_info": {
   "codemirror_mode": {
    "name": "ipython",
    "version": 2
   },
   "file_extension": ".py",
   "mimetype": "text/x-python",
   "name": "python",
   "nbconvert_exporter": "python",
   "pygments_lexer": "ipython2",
   "version": "2.7.12"
  }
 },
 "nbformat": 4,
 "nbformat_minor": 0
}
