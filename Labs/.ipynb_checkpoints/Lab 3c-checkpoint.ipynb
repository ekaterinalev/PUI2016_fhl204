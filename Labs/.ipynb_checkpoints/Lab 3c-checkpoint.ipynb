{
 "cells": [
  {
   "cell_type": "code",
   "execution_count": 1,
   "metadata": {
    "collapsed": false
   },
   "outputs": [
    {
     "name": "stdout",
     "output_type": "stream",
     "text": [
      "Populating the interactive namespace from numpy and matplotlib\n"
     ]
    }
   ],
   "source": [
    "from __future__ import print_function\n",
    "__author__= 'Franz Loza'\n",
    "\n",
    "import pylab as pl\n",
    "# this package sets up pretty plots\n",
    "#import seaborn\n",
    "from scipy.optimize import curve_fit, minimize\n",
    "import numpy as np\n",
    "\n",
    "%pylab inline\n",
    "\n",
    "#Seaborn not working in python 2 or 3"
   ]
  },
  {
   "cell_type": "code",
   "execution_count": 2,
   "metadata": {
    "collapsed": false
   },
   "outputs": [
    {
     "data": {
      "text/plain": [
       "'\\nget the mean for a 100 distributions \\nput in for loop\\n'"
      ]
     },
     "execution_count": 2,
     "metadata": {},
     "output_type": "execute_result"
    },
    {
     "data": {
      "image/png": "[encoded data removed]",
      "text/plain": [
       "<matplotlib.figure.Figure at 0x7f236fd5a110>"
      ]
     },
     "metadata": {},
     "output_type": "display_data"
    }
   ],
   "source": [
    "#LAB\n",
    "#np.random.chisquare?\n",
    "\n",
    "#choose the same mean for all distribution\n",
    "#chi: mean is the same of degrees of freedom\n",
    "\n",
    "np.random.seed(999)\n",
    "chisq = np.random.chisquare(100,2000)\n",
    "#chisq\n",
    "\n",
    "pl.hist(chisq)\n",
    "pl.show\n",
    "'''\n",
    "get the mean for a 100 distributions \n",
    "put in for loop\n",
    "'''"
   ]
  },
  {
   "cell_type": "code",
   "execution_count": 3,
   "metadata": {
    "collapsed": false
   },
   "outputs": [
    {
     "data": {
      "text/plain": [
       "array([2000, 1000,  666,  500,  400,  333,  285,  250,  222,  200,  181,\n",
       "        166,  153,  142,  133,  125,  117,  111,  105,  100,   95,   90,\n",
       "         86,   83,   80,   76,   74,   71,   68,   66,   64,   62,   60,\n",
       "         58,   57,   55,   54,   52,   51,   50,   48,   47,   46,   45,\n",
       "         44,   43,   42,   41,   40,   40,   39,   38,   37,   37,   36,\n",
       "         35,   35,   34,   33,   33,   32,   32,   31,   31,   30,   30,\n",
       "         29,   29,   28,   28,   28,   27,   27,   27,   26,   26,   25,\n",
       "         25,   25,   25,   24,   24,   24,   23,   23,   23,   22,   22,\n",
       "         22,   22,   21,   21,   21,   21,   21,   20,   20,   20,   20,\n",
       "         20])"
      ]
     },
     "execution_count": 3,
     "metadata": {},
     "output_type": "execute_result"
    }
   ],
   "source": [
    "mysize = (2000/np.array(range(1,101)))\n",
    "mysize"
   ]
  },
  {
   "cell_type": "code",
   "execution_count": null,
   "metadata": {
    "collapsed": true
   },
   "outputs": [],
   "source": [
    "#create empty list\n",
    "chidist =[]\n",
    "for i in range (0,len(mysize)):\n",
    "    chidist.append(np.random.chisquare(100,mysize[i]))\n",
    "#plot mean of distribution\n",
    "#x-axis = mysize\n",
    "\n",
    "#extract means first\n",
    "chimeans=[]\n",
    "for i in range(0,len(mysize)):\n",
    "    chimeans.append(chidist[i].mean())\n",
    "\n",
    "#chimeans\n",
    "#plot gains the sizes\n",
    "\n",
    "pl.scatter(mysize,chimeans)\n",
    "\n",
    "#something to the sq of n, preferred\n"
   ]
  }
 ],
 "metadata": {
  "kernelspec": {
   "display_name": "PUI2016_Python2",
   "language": "python",
   "name": "pui2016_python2"
  },
  "language_info": {
   "codemirror_mode": {
    "name": "ipython",
    "version": 2
   },
   "file_extension": ".py",
   "mimetype": "text/x-python",
   "name": "python",
   "nbconvert_exporter": "python",
   "pygments_lexer": "ipython2",
   "version": "2.7.12"
  }
 },
 "nbformat": 4,
 "nbformat_minor": 0
}
