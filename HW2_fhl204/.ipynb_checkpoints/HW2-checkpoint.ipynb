{
 "cells": [
  {
   "cell_type": "markdown",
   "metadata": {},
   "source": [
    "Homework 2: \n",
    "    https://github.com/fedhere/PUI2016_fb55/tree/master/HW2_fb55\n",
    "\n",
    "Lab Resources:\n",
    "    https://github.com/fedhere/PUI2016_fb55/blob/master/Lab2_fb55/NYCweatherAPI.py\n",
    "    https://github.com/fedhere/PUI2016_fb55/blob/master/Lab2_fb55/APIreadingJson.py.ipynb\n",
    "    https://github.com/fedhere/PUI2016_fb55/blob/master/Lab2_fb55/FormattingTables.ipynb\n",
    "    https://github.com/fedhere/UInotebooks/tree/master/dataWrangling\n",
    "\n",
    "Assignment 1: Script for python show_bus_locations.py MTAAPIKEY BUS_LINE\n",
    "    API key and link from http://bustime.mta.info/wiki/Developers/SIRIVehicleMonitoring\n",
    "\n",
    "Assignment 2: Script for python get_bus_info.py xxxx-xxxx-xxxx-xxxx-xxxx BUS_LINE BUS_LINE.csv\n",
    "\n",
    "Assignment 3: Read CSV files with pandas\n",
    "\n",
    "Note: Make sure to rename scripts to include \"_netid\""
   ]
  },
  {
   "cell_type": "code",
   "execution_count": 1,
   "metadata": {
    "collapsed": false
   },
   "outputs": [],
   "source": [
    "from __future__ import print_function\n",
    "import json\n",
    "import urllib2\n",
    "import os\n",
    "import sys\n",
    "import requests\n",
    "import pylab as pl\n",
    "\n",
    "import numpy as np\n",
    "import pandas as pd"
   ]
  },
  {
   "cell_type": "code",
   "execution_count": 7,
   "metadata": {
    "collapsed": false
   },
   "outputs": [
    {
     "name": "stdout",
     "output_type": "stream",
     "text": [
      "Bus Line: B52\n",
      "Number of Active Buses : 9\n",
      "Bus 0 is at latitude -73.922306 and longitude 40.689462\n",
      "Bus 1 is at latitude -73.947765 and longitude 40.686542\n",
      "Bus 2 is at latitude -73.922524 and longitude 40.689437\n",
      "Bus 3 is at latitude -73.956414 and longitude 40.685544\n",
      "Bus 4 is at latitude -73.922739 and longitude 40.689413\n",
      "Bus 5 is at latitude -73.990982 and longitude 40.696187\n",
      "Bus 6 is at latitude -73.984787 and longitude 40.690434\n",
      "Bus 7 is at latitude -73.960631 and longitude 40.687309\n",
      "Bus 8 is at latitude -73.935106 and longitude 40.687997\n"
     ]
    }
   ],
   "source": [
    "#fetch data from MTA\n",
    "apikey = \"b90f3cc1-5567-4fbf-9ef4-843de85a9a07\" #x\n",
    "BUS_LINE = \"B52\"\n",
    "   \n",
    "url = \"http://bustime.mta.info/api/siri/vehicle-monitoring.json?\"\\\n",
    "\"key=\" + apikey + \"&VehicleMonitoringDetailLevel=calls&LineRef=\" + BUS_LINE\n",
    "\n",
    "response = urllib2.urlopen(url)\n",
    "MTAdata = response.read().decode(\"utf-8\")\n",
    "json.loads(MTAdata)\n",
    "#print (MTAdata)\n",
    "\n",
    "#Ser_Del = ServiceDelivery\n",
    "Ser_Del = data['Siri']['ServiceDelivery'] \n",
    "#Veh_Act = VehicleActivity\n",
    "Veh_Act = Ser_Del['VehicleMonitoringDelivery'][0]['VehicleActivity']\n",
    "No_active_bus = len(Veh_Act)\n",
    "\n",
    "print ('Bus Line: %s' %BUS_LINE)\n",
    "print ('Number of Active Buses : %d' %No_active_bus)\n",
    "for i in range(len(Veh_Act)):\n",
    "    Long = Veh_Act[i]['MonitoredVehicleJourney']['VehicleLocation']['Longitude']\n",
    "    Lat = Veh_Act[i]['MonitoredVehicleJourney']['VehicleLocation']['Latitude']\n",
    "    print ('Bus %d is at latitude %r and longitude %r' %(i, Long, Lat))"
   ]
  },
  {
   "cell_type": "code",
   "execution_count": 8,
   "metadata": {
    "collapsed": false
   },
   "outputs": [
    {
     "name": "stdout",
     "output_type": "stream",
     "text": [
      "Bus Line: B52\n",
      "Number of Active Buses : 10\n",
      "Bus 0 is at latitude -73.968932 and longitude 40.686351\n",
      "Bus 1 is at latitude -73.972604 and longitude 40.685927\n",
      "Bus 2 is at latitude -73.915081 and longitude 40.696606\n",
      "Bus 3 is at latitude -73.920633 and longitude 40.690953\n",
      "Bus 4 is at latitude -73.932814 and longitude 40.688264\n",
      "Bus 5 is at latitude -73.972086 and longitude 40.685989\n",
      "Bus 6 is at latitude -73.913321 and longitude 40.698398\n",
      "Bus 7 is at latitude -73.959518 and longitude 40.686428\n",
      "Bus 8 is at latitude -73.915673 and longitude 40.696004\n",
      "Bus 9 is at latitude -73.989065 and longitude 40.692473\n"
     ]
    }
   ],
   "source": [
    "%run show_bus_locations.py b90f3cc1-5567-4fbf-9ef4-843de85a9a07 B52"
   ]
  },
  {
   "cell_type": "code",
   "execution_count": null,
   "metadata": {
    "collapsed": true
   },
   "outputs": [],
   "source": [
    "#Assignment 2\n",
    "\n",
    "#Script worked on by Jianghao: https://github.com/jz2575\n",
    "\n",
    "from __future__ import print_function\n",
    "import pylab as pl\n",
    "import json\n",
    "import urllib2\n",
    "import os\n",
    "import sys\n",
    "from sys import argv\n",
    "import csv\n",
    "\n",
    "#Name variables\n",
    "VMD = 'VehicleMonitoringDelivery'\n",
    "VA = 'VehicleActivity'\n",
    "MVJ = 'MonitoredVehicleJourney'\n",
    "VL = 'VehicleLocation'\n",
    "OCs = 'OnwardCalls'\n",
    "OC = 'OnwardCall'\n",
    "PD = 'PresentableDistance'\n",
    "SPN = 'StopPointName'\n",
    "\n",
    "#Fetch data\n",
    "script, apikey, BUS_LINE, BUSCSV = argv\n",
    "fout = open(BUSCSV, \"w+\")\n",
    "fout.write(\"Latitude,Longitude,Stop Name,Stop Status\\n\")\n",
    "if not len(sys.argv) == 4:\n",
    "        print (\"Invalid number of arguments.\")\n",
    "        print (\"Run as: python show_bus_locations.py MTA-KEY BUS-LINE\")\n",
    "\n",
    "url = \"http://bustime.mta.info/api/siri/vehicle-monitoring.json?\\\n",
    "key=\" + apikey + \"&VehicleMonitoringDetailLevel=calls&LineRef=\" + BUS_LINE\n",
    "#print (url)\n",
    "#url = \"http://bustime.mta.info/api/siri/vehicle-monitoring.json?key\n",
    "#=15631ece-ce07-4e77-87b4-d82e87563051&VehicleMonitoringDetailLevel=calls&LineRef=B52\"\n",
    "\n",
    "#review data\n",
    "response = urllib2.urlopen(url)\n",
    "data = response.read().decode(\"utf-8\")\n",
    "data = json.loads(data)\n",
    "#print (type(data))\n",
    "#print (data)\n",
    "\n",
    "#pull data for one vehicle\n",
    "va = data['Siri']['ServiceDelivery'][VMD][0][VA]\n",
    "No_active_bus = len(va)\n",
    "#print ('Bus Line: %s' %BUS_LINE)\n",
    "#print ('Number of Active Buses : %d' %No_active_bus)\n",
    "\n",
    "#Pull vehicle status data\n",
    "for i in range(len(va)):\n",
    "    Long = va[i][MVJ][VL]['Longitude']\n",
    "    Lat = va[i][MVJ][VL]['Latitude']\n",
    "    if va[i][MVJ][OCs] == '':\n",
    "        Pstop == 'N/A'\n",
    "        StopName == 'N/A'\n",
    "    else:\n",
    "        PStop = va[i][MVJ][OCs][OC][0]['Extensions']['Distances'][PD]\n",
    "        StopName = va[i][MVJ][OCs][OC][0][SPN]\n",
    "    fout.write(\"%s,%s,%s,%s\\n\" %(Lat, Long, StopName, PStop))\n",
    "\n",
    "#Output to csv    \n",
    "fout.close()\n",
    "with open(BUSCSV, 'r') as f:\n",
    "    reader = csv.reader(f)\n",
    "    for row in reader:\n",
    "    \tprint (row)"
   ]
  },
  {
   "cell_type": "code",
   "execution_count": 10,
   "metadata": {
    "collapsed": false
   },
   "outputs": [
    {
     "name": "stdout",
     "output_type": "stream",
     "text": [
      "['Latitude', 'Longitude', 'Stop Name', 'Stop Status']\n",
      "['40.686359', '-73.968863', 'GREENE AV/VANDERBILT AV', 'at stop']\n",
      "['40.686919', '-73.944482', 'GATES AV/TOMPKINS AV', 'at stop']\n",
      "['40.693977', '-73.917664', 'GATES AV/CENTRAL AV', 'approaching']\n",
      "['40.687575', '-73.938796', 'GATES AV/MARCUS GARVEY BL', 'approaching']\n",
      "['40.696153', '-73.990075', 'Tillary St (not used)', 'approaching']\n",
      "['40.688279', '-73.932679', 'GATES AV/STUYVESANT AV', 'approaching']\n",
      "['40.686672', '-73.966134', 'GREENE AV/WASHINGTON AV', 'approaching']\n",
      "['40.692807', '-73.990846', 'CADMAN PLZ W/MONTAGUE ST', 'approaching']\n",
      "['40.693379', '-73.918251', 'GATES AV/CENTRAL AV', 'approaching']\n"
     ]
    }
   ],
   "source": [
    "%run  get_bus_info.py b90f3cc1-5567-4fbf-9ef4-843de85a9a07 B52 B52.csv"
   ]
  },
  {
   "cell_type": "code",
   "execution_count": 65,
   "metadata": {
    "collapsed": false
   },
   "outputs": [
    {
     "name": "stdout",
     "output_type": "stream",
     "text": [
      "/gws/open/NYCOpenData/nycopendata/data\n"
     ]
    }
   ],
   "source": [
    "#Assignment 3\n",
    "\n",
    "from __future__ import print_function\n",
    "import csv\n",
    "import requests\n",
    "import sys\n",
    "import os\n",
    "\n",
    "import numpy as np\n",
    "from numpy.random import randn\n",
    "import pylab as pl\n",
    "\n",
    "from pandas import Series, DataFrame\n",
    "import pandas\n",
    "import pandas as pd\n",
    "import matplotlib\n",
    "\n",
    "#Check that an environmental variable DFDATA exists and that it points to \n",
    "#the data facility location /gws/open/NYCOpenData/nycopendata/data/\n",
    "print (os.environ.get('DFDATA'))"
   ]
  },
  {
   "cell_type": "code",
   "execution_count": 28,
   "metadata": {
    "collapsed": false
   },
   "outputs": [
    {
     "name": "stdout",
     "output_type": "stream",
     "text": [
      "Populating the interactive namespace from numpy and matplotlib\n"
     ]
    }
   ],
   "source": [
    "# setting up some preferences\n",
    "%pylab inline\n",
    "\n",
    "#np.set_printoptions(precision=4, threshold=500)\n",
    "#np.random.seed(123321)\n",
    "#pl.rc('figure', figsize=(10, 6))\n",
    "#pd.options.display.max_rows = 10"
   ]
  },
  {
   "cell_type": "code",
   "execution_count": 31,
   "metadata": {
    "collapsed": false
   },
   "outputs": [
    {
     "data": {
      "text/html": [
       "<div>\n",
       "<table border=\"1\" class=\"dataframe\">\n",
       "  <thead>\n",
       "    <tr style=\"text-align: right;\">\n",
       "      <th></th>\n",
       "      <th>DATE</th>\n",
       "      <th>TIME</th>\n",
       "      <th>BOROUGH</th>\n",
       "      <th>ZIP CODE</th>\n",
       "      <th>LATITUDE</th>\n",
       "      <th>LONGITUDE</th>\n",
       "      <th>LOCATION</th>\n",
       "      <th>ON STREET NAME</th>\n",
       "      <th>CROSS STREET NAME</th>\n",
       "      <th>OFF STREET NAME</th>\n",
       "      <th>...</th>\n",
       "      <th>CONTRIBUTING FACTOR VEHICLE 2</th>\n",
       "      <th>CONTRIBUTING FACTOR VEHICLE 3</th>\n",
       "      <th>CONTRIBUTING FACTOR VEHICLE 4</th>\n",
       "      <th>CONTRIBUTING FACTOR VEHICLE 5</th>\n",
       "      <th>UNIQUE KEY</th>\n",
       "      <th>VEHICLE TYPE CODE 1</th>\n",
       "      <th>VEHICLE TYPE CODE 2</th>\n",
       "      <th>VEHICLE TYPE CODE 3</th>\n",
       "      <th>VEHICLE TYPE CODE 4</th>\n",
       "      <th>VEHICLE TYPE CODE 5</th>\n",
       "    </tr>\n",
       "  </thead>\n",
       "  <tbody>\n",
       "    <tr>\n",
       "      <th>0</th>\n",
       "      <td>09/13/2016</td>\n",
       "      <td>0:00</td>\n",
       "      <td>BROOKLYN</td>\n",
       "      <td>11203.0</td>\n",
       "      <td>NaN</td>\n",
       "      <td>NaN</td>\n",
       "      <td>NaN</td>\n",
       "      <td>AVENUE D</td>\n",
       "      <td>EAST 51 STREET</td>\n",
       "      <td>NaN</td>\n",
       "      <td>...</td>\n",
       "      <td>Passing or Lane Usage Improper</td>\n",
       "      <td>NaN</td>\n",
       "      <td>NaN</td>\n",
       "      <td>NaN</td>\n",
       "      <td>3519620</td>\n",
       "      <td>SPORT UTILITY / STATION WAGON</td>\n",
       "      <td>SPORT UTILITY / STATION WAGON</td>\n",
       "      <td>NaN</td>\n",
       "      <td>NaN</td>\n",
       "      <td>NaN</td>\n",
       "    </tr>\n",
       "    <tr>\n",
       "      <th>1</th>\n",
       "      <td>09/13/2016</td>\n",
       "      <td>0:00</td>\n",
       "      <td>BROOKLYN</td>\n",
       "      <td>11210.0</td>\n",
       "      <td>NaN</td>\n",
       "      <td>NaN</td>\n",
       "      <td>NaN</td>\n",
       "      <td>EAST 31 STREET</td>\n",
       "      <td>GLENWOOD ROAD</td>\n",
       "      <td>NaN</td>\n",
       "      <td>...</td>\n",
       "      <td>Unspecified</td>\n",
       "      <td>NaN</td>\n",
       "      <td>NaN</td>\n",
       "      <td>NaN</td>\n",
       "      <td>3519276</td>\n",
       "      <td>SPORT UTILITY / STATION WAGON</td>\n",
       "      <td>PASSENGER VEHICLE</td>\n",
       "      <td>NaN</td>\n",
       "      <td>NaN</td>\n",
       "      <td>NaN</td>\n",
       "    </tr>\n",
       "    <tr>\n",
       "      <th>2</th>\n",
       "      <td>09/13/2016</td>\n",
       "      <td>0:00</td>\n",
       "      <td>BROOKLYN</td>\n",
       "      <td>11219.0</td>\n",
       "      <td>NaN</td>\n",
       "      <td>NaN</td>\n",
       "      <td>NaN</td>\n",
       "      <td>61 STREET</td>\n",
       "      <td>13 AVENUE</td>\n",
       "      <td>NaN</td>\n",
       "      <td>...</td>\n",
       "      <td>NaN</td>\n",
       "      <td>NaN</td>\n",
       "      <td>NaN</td>\n",
       "      <td>NaN</td>\n",
       "      <td>3519513</td>\n",
       "      <td>PASSENGER VEHICLE</td>\n",
       "      <td>NaN</td>\n",
       "      <td>NaN</td>\n",
       "      <td>NaN</td>\n",
       "      <td>NaN</td>\n",
       "    </tr>\n",
       "    <tr>\n",
       "      <th>3</th>\n",
       "      <td>09/13/2016</td>\n",
       "      <td>0:00</td>\n",
       "      <td>MANHATTAN</td>\n",
       "      <td>10001.0</td>\n",
       "      <td>NaN</td>\n",
       "      <td>NaN</td>\n",
       "      <td>NaN</td>\n",
       "      <td>10 AVENUE</td>\n",
       "      <td>WEST 31 STREET</td>\n",
       "      <td>NaN</td>\n",
       "      <td>...</td>\n",
       "      <td>Unspecified</td>\n",
       "      <td>NaN</td>\n",
       "      <td>NaN</td>\n",
       "      <td>NaN</td>\n",
       "      <td>3519012</td>\n",
       "      <td>SPORT UTILITY / STATION WAGON</td>\n",
       "      <td>NaN</td>\n",
       "      <td>NaN</td>\n",
       "      <td>NaN</td>\n",
       "      <td>NaN</td>\n",
       "    </tr>\n",
       "    <tr>\n",
       "      <th>4</th>\n",
       "      <td>09/13/2016</td>\n",
       "      <td>0:00</td>\n",
       "      <td>MANHATTAN</td>\n",
       "      <td>10011.0</td>\n",
       "      <td>NaN</td>\n",
       "      <td>NaN</td>\n",
       "      <td>NaN</td>\n",
       "      <td>AVENUE OF THE AMERICAS</td>\n",
       "      <td>WEST 4 STREET</td>\n",
       "      <td>NaN</td>\n",
       "      <td>...</td>\n",
       "      <td>Unspecified</td>\n",
       "      <td>NaN</td>\n",
       "      <td>NaN</td>\n",
       "      <td>NaN</td>\n",
       "      <td>3519270</td>\n",
       "      <td>PASSENGER VEHICLE</td>\n",
       "      <td>SPORT UTILITY / STATION WAGON</td>\n",
       "      <td>NaN</td>\n",
       "      <td>NaN</td>\n",
       "      <td>NaN</td>\n",
       "    </tr>\n",
       "  </tbody>\n",
       "</table>\n",
       "<p>5 rows × 29 columns</p>\n",
       "</div>"
      ],
      "text/plain": [
       "         DATE  TIME    BOROUGH  ZIP CODE  LATITUDE  LONGITUDE LOCATION  \\\n",
       "0  09/13/2016  0:00   BROOKLYN   11203.0       NaN        NaN      NaN   \n",
       "1  09/13/2016  0:00   BROOKLYN   11210.0       NaN        NaN      NaN   \n",
       "2  09/13/2016  0:00   BROOKLYN   11219.0       NaN        NaN      NaN   \n",
       "3  09/13/2016  0:00  MANHATTAN   10001.0       NaN        NaN      NaN   \n",
       "4  09/13/2016  0:00  MANHATTAN   10011.0       NaN        NaN      NaN   \n",
       "\n",
       "           ON STREET NAME CROSS STREET NAME OFF STREET NAME  \\\n",
       "0                AVENUE D    EAST 51 STREET             NaN   \n",
       "1          EAST 31 STREET     GLENWOOD ROAD             NaN   \n",
       "2               61 STREET         13 AVENUE             NaN   \n",
       "3               10 AVENUE    WEST 31 STREET             NaN   \n",
       "4  AVENUE OF THE AMERICAS     WEST 4 STREET             NaN   \n",
       "\n",
       "          ...           CONTRIBUTING FACTOR VEHICLE 2  \\\n",
       "0         ...          Passing or Lane Usage Improper   \n",
       "1         ...                             Unspecified   \n",
       "2         ...                                     NaN   \n",
       "3         ...                             Unspecified   \n",
       "4         ...                             Unspecified   \n",
       "\n",
       "   CONTRIBUTING FACTOR VEHICLE 3  CONTRIBUTING FACTOR VEHICLE 4  \\\n",
       "0                            NaN                            NaN   \n",
       "1                            NaN                            NaN   \n",
       "2                            NaN                            NaN   \n",
       "3                            NaN                            NaN   \n",
       "4                            NaN                            NaN   \n",
       "\n",
       "   CONTRIBUTING FACTOR VEHICLE 5  UNIQUE KEY            VEHICLE TYPE CODE 1  \\\n",
       "0                            NaN     3519620  SPORT UTILITY / STATION WAGON   \n",
       "1                            NaN     3519276  SPORT UTILITY / STATION WAGON   \n",
       "2                            NaN     3519513              PASSENGER VEHICLE   \n",
       "3                            NaN     3519012  SPORT UTILITY / STATION WAGON   \n",
       "4                            NaN     3519270              PASSENGER VEHICLE   \n",
       "\n",
       "             VEHICLE TYPE CODE 2  VEHICLE TYPE CODE 3 VEHICLE TYPE CODE 4  \\\n",
       "0  SPORT UTILITY / STATION WAGON                  NaN                 NaN   \n",
       "1              PASSENGER VEHICLE                  NaN                 NaN   \n",
       "2                            NaN                  NaN                 NaN   \n",
       "3                            NaN                  NaN                 NaN   \n",
       "4  SPORT UTILITY / STATION WAGON                  NaN                 NaN   \n",
       "\n",
       "  VEHICLE TYPE CODE 5  \n",
       "0                 NaN  \n",
       "1                 NaN  \n",
       "2                 NaN  \n",
       "3                 NaN  \n",
       "4                 NaN  \n",
       "\n",
       "[5 rows x 29 columns]"
      ]
     },
     "execution_count": 31,
     "metadata": {},
     "output_type": "execute_result"
    }
   ],
   "source": [
    "#Pull top 5 rows\n",
    "df_dmv = pd.read_csv(\"https://data.cityofnewyork.us/resource/h9gi-nx95.csv\")\n",
    "df_dmv.head(n=5)"
   ]
  },
  {
   "cell_type": "code",
   "execution_count": 33,
   "metadata": {
    "collapsed": false
   },
   "outputs": [
    {
     "data": {
      "text/html": [
       "<div>\n",
       "<table border=\"1\" class=\"dataframe\">\n",
       "  <thead>\n",
       "    <tr style=\"text-align: right;\">\n",
       "      <th></th>\n",
       "      <th>UNIQUE KEY</th>\n",
       "      <th>CONTRIBUTING FACTOR VEHICLE 1</th>\n",
       "      <th>LATITUDE</th>\n",
       "      <th>LONGITUDE</th>\n",
       "    </tr>\n",
       "  </thead>\n",
       "  <tbody>\n",
       "    <tr>\n",
       "      <th>0</th>\n",
       "      <td>3519620</td>\n",
       "      <td>Failure to Yield Right-of-Way</td>\n",
       "      <td>NaN</td>\n",
       "      <td>NaN</td>\n",
       "    </tr>\n",
       "    <tr>\n",
       "      <th>1</th>\n",
       "      <td>3519276</td>\n",
       "      <td>Unspecified</td>\n",
       "      <td>NaN</td>\n",
       "      <td>NaN</td>\n",
       "    </tr>\n",
       "    <tr>\n",
       "      <th>2</th>\n",
       "      <td>3519513</td>\n",
       "      <td>Unspecified</td>\n",
       "      <td>NaN</td>\n",
       "      <td>NaN</td>\n",
       "    </tr>\n",
       "    <tr>\n",
       "      <th>3</th>\n",
       "      <td>3519012</td>\n",
       "      <td>Following Too Closely</td>\n",
       "      <td>NaN</td>\n",
       "      <td>NaN</td>\n",
       "    </tr>\n",
       "    <tr>\n",
       "      <th>4</th>\n",
       "      <td>3519270</td>\n",
       "      <td>Unsafe Speed</td>\n",
       "      <td>NaN</td>\n",
       "      <td>NaN</td>\n",
       "    </tr>\n",
       "  </tbody>\n",
       "</table>\n",
       "</div>"
      ],
      "text/plain": [
       "   UNIQUE KEY  CONTRIBUTING FACTOR VEHICLE 1  LATITUDE  LONGITUDE\n",
       "0     3519620  Failure to Yield Right-of-Way       NaN        NaN\n",
       "1     3519276                    Unspecified       NaN        NaN\n",
       "2     3519513                    Unspecified       NaN        NaN\n",
       "3     3519012          Following Too Closely       NaN        NaN\n",
       "4     3519270                   Unsafe Speed       NaN        NaN"
      ]
     },
     "execution_count": 33,
     "metadata": {},
     "output_type": "execute_result"
    }
   ],
   "source": [
    "#Truncate number of columns\n",
    "col_list=['UNIQUE KEY', 'CONTRIBUTING FACTOR VEHICLE 1','LATITUDE','LONGITUDE'] \n",
    "df_accidentloc = df_dmv[col_list]\n",
    "df_accidentloc.head(n=5)"
   ]
  },
  {
   "cell_type": "code",
   "execution_count": 40,
   "metadata": {
    "collapsed": false
   },
   "outputs": [
    {
     "data": {
      "text/plain": [
       "<matplotlib.text.Text at 0x7fa26365d610>"
      ]
     },
     "execution_count": 40,
     "metadata": {},
     "output_type": "execute_result"
    },
    {
     "data": {
      "image/png": "[encoded data removed]",
      "text/plain": [
       "<matplotlib.figure.Figure at 0x7fa1fd7bc590>"
      ]
     },
     "metadata": {},
     "output_type": "display_data"
    }
   ],
   "source": [
    "#Plot data\n",
    "ax = df_accidentloc.plot.scatter(x='LONGITUDE', y='LATITUDE', alpha=0.2)\n",
    "ax.set_title(\"NYPD Motor Vehicle Incidents\")"
   ]
  },
  {
   "cell_type": "code",
   "execution_count": 38,
   "metadata": {
    "collapsed": false
   },
   "outputs": [
    {
     "data": {
      "text/html": [
       "<div>\n",
       "<table border=\"1\" class=\"dataframe\">\n",
       "  <thead>\n",
       "    <tr style=\"text-align: right;\">\n",
       "      <th></th>\n",
       "      <th>UNIQUE KEY</th>\n",
       "      <th>DATE</th>\n",
       "      <th>TIME</th>\n",
       "      <th>NUMBER OF PERSONS INJURED</th>\n",
       "      <th>NUMBER OF MOTORIST KILLED</th>\n",
       "    </tr>\n",
       "  </thead>\n",
       "  <tbody>\n",
       "    <tr>\n",
       "      <th>0</th>\n",
       "      <td>3519620</td>\n",
       "      <td>09/13/2016</td>\n",
       "      <td>0:00</td>\n",
       "      <td>0</td>\n",
       "      <td>0</td>\n",
       "    </tr>\n",
       "    <tr>\n",
       "      <th>1</th>\n",
       "      <td>3519276</td>\n",
       "      <td>09/13/2016</td>\n",
       "      <td>0:00</td>\n",
       "      <td>0</td>\n",
       "      <td>0</td>\n",
       "    </tr>\n",
       "    <tr>\n",
       "      <th>2</th>\n",
       "      <td>3519513</td>\n",
       "      <td>09/13/2016</td>\n",
       "      <td>0:00</td>\n",
       "      <td>0</td>\n",
       "      <td>0</td>\n",
       "    </tr>\n",
       "    <tr>\n",
       "      <th>3</th>\n",
       "      <td>3519012</td>\n",
       "      <td>09/13/2016</td>\n",
       "      <td>0:00</td>\n",
       "      <td>0</td>\n",
       "      <td>0</td>\n",
       "    </tr>\n",
       "    <tr>\n",
       "      <th>4</th>\n",
       "      <td>3519270</td>\n",
       "      <td>09/13/2016</td>\n",
       "      <td>0:00</td>\n",
       "      <td>0</td>\n",
       "      <td>0</td>\n",
       "    </tr>\n",
       "  </tbody>\n",
       "</table>\n",
       "</div>"
      ],
      "text/plain": [
       "   UNIQUE KEY        DATE  TIME  NUMBER OF PERSONS INJURED  \\\n",
       "0     3519620  09/13/2016  0:00                          0   \n",
       "1     3519276  09/13/2016  0:00                          0   \n",
       "2     3519513  09/13/2016  0:00                          0   \n",
       "3     3519012  09/13/2016  0:00                          0   \n",
       "4     3519270  09/13/2016  0:00                          0   \n",
       "\n",
       "   NUMBER OF MOTORIST KILLED  \n",
       "0                          0  \n",
       "1                          0  \n",
       "2                          0  \n",
       "3                          0  \n",
       "4                          0  "
      ]
     },
     "execution_count": 38,
     "metadata": {},
     "output_type": "execute_result"
    }
   ],
   "source": [
    "#Extra Credit\n",
    "col_wDate=['UNIQUE KEY','DATE','TIME','NUMBER OF PERSONS INJURED','NUMBER OF MOTORIST KILLED'] \n",
    "df_accidentlocdate = df_dmv[col_wDate]\n",
    "df_accidentlocdate.head(n=5)"
   ]
  },
  {
   "cell_type": "code",
   "execution_count": 56,
   "metadata": {
    "collapsed": false
   },
   "outputs": [
    {
     "ename": "NameError",
     "evalue": "name 'time' is not defined",
     "output_type": "error",
     "traceback": [
      "\u001b[0;31m\u001b[0m",
      "\u001b[0;31mNameError\u001b[0mTraceback (most recent call last)",
      "\u001b[0;32m<ipython-input-56-29231ab29c72>\u001b[0m in \u001b[0;36m<module>\u001b[0;34m()\u001b[0m\n\u001b[0;32m----> 1\u001b[0;31m \u001b[0mtimes\u001b[0m \u001b[0;34m=\u001b[0m \u001b[0;34m[\u001b[0m\u001b[0mdatetime\u001b[0m\u001b[0;34m.\u001b[0m\u001b[0mdatetime\u001b[0m\u001b[0;34m.\u001b[0m\u001b[0mstrptime\u001b[0m\u001b[0;34m(\u001b[0m\u001b[0mt\u001b[0m\u001b[0;34m,\u001b[0m \u001b[0;34m\"%H:%M:%S\"\u001b[0m\u001b[0;34m)\u001b[0m \u001b[0;32mfor\u001b[0m \u001b[0mt\u001b[0m \u001b[0;32min\u001b[0m \u001b[0mtime\u001b[0m\u001b[0;34m]\u001b[0m\u001b[0;34m\u001b[0m\u001b[0m\n\u001b[0m",
      "\u001b[0;31mNameError\u001b[0m: name 'time' is not defined"
     ]
    }
   ],
   "source": [
    "times = [datetime.datetime.strptime(t, \"%H:%M:%S\") for t in time]"
   ]
  },
  {
   "cell_type": "code",
   "execution_count": 67,
   "metadata": {
    "collapsed": false
   },
   "outputs": [
    {
     "data": {
      "text/plain": [
       "<matplotlib.text.Text at 0x7fa1eba2fe90>"
      ]
     },
     "execution_count": 67,
     "metadata": {},
     "output_type": "execute_result"
    },
    {
     "data": {
      "image/png": "[encoded data removed]",
      "text/plain": [
       "<matplotlib.figure.Figure at 0x7fa1f03e4590>"
      ]
     },
     "metadata": {},
     "output_type": "display_data"
    }
   ],
   "source": [
    "#Plot data\n",
    "ax = df_accidentlocdate.plot.bar(x='DATE', y='NUMBER OF PERSONS INJURED', rot=90)\n",
    "#ax.xlabel('Date')\n",
    "ax.set_title(\"NY Motor Number of Persons Injured from Vehicle Incidents 9/12/16 to 9/13/2016\")"
   ]
  },
  {
   "cell_type": "code",
   "execution_count": 57,
   "metadata": {
    "collapsed": false
   },
   "outputs": [],
   "source": [
    "pd.date_range?"
   ]
  },
  {
   "cell_type": "code",
   "execution_count": null,
   "metadata": {
    "collapsed": true
   },
   "outputs": [],
   "source": []
  }
 ],
 "metadata": {
  "kernelspec": {
   "display_name": "PUI2016_Python2",
   "language": "python",
   "name": "pui2016_python2"
  },
  "language_info": {
   "codemirror_mode": {
    "name": "ipython",
    "version": 2
   },
   "file_extension": ".py",
   "mimetype": "text/x-python",
   "name": "python",
   "nbconvert_exporter": "python",
   "pygments_lexer": "ipython2",
   "version": "2.7.12"
  }
 },
 "nbformat": 4,
 "nbformat_minor": 0
}
