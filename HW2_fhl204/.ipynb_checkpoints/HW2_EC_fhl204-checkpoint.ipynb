{
 "cells": [
  {
   "cell_type": "code",
   "execution_count": 1,
   "metadata": {
    "collapsed": false
   },
   "outputs": [
    {
     "name": "stdout",
     "output_type": "stream",
     "text": [
      "/home/cusp/fhl204/PUIdata\n",
      "/gws/open/NYCOpenData/nycopendata/data\n",
      "/gws/open/NYCOpenData/nycopendata/data/h9gi-nx95/1448475295/h9gi-nx95\n"
     ]
    }
   ],
   "source": [
    "from __future__ import print_function\n",
    "import csv\n",
    "import requests\n",
    "import sys\n",
    "import os\n",
    "\n",
    "import numpy as np\n",
    "from numpy.random import randn\n",
    "import pylab as pl\n",
    "\n",
    "from pandas import Series, DataFrame\n",
    "import pandas\n",
    "import pandas as pd\n",
    "import matplotlib\n",
    "\n",
    "#Check that an environmental variable DFDATA exists and that it points to \n",
    "#the data facility location /gws/open/NYCOpenData/nycopendata/data/\n",
    "PUIdata = os.getenv(\"PUIDATA\")\n",
    "print (PUIdata)\n",
    "dataDirect = \"/gws/open/NYCOpenData/nycopendata/data\"\n",
    "dataSource = dataDirect + \"/h9gi-nx95/1448475295/h9gi-nx95\"\n",
    "print (dataDirect)\n",
    "print (dataSource)"
   ]
  },
  {
   "cell_type": "code",
   "execution_count": null,
   "metadata": {
    "collapsed": false
   },
   "outputs": [],
   "source": [
    "#Pull top 5 rows\n",
    "df_dmv = pd.read_csv(dataSource)\n",
    "df_dmv.head(n=5)"
   ]
  },
  {
   "cell_type": "code",
   "execution_count": null,
   "metadata": {
    "collapsed": true
   },
   "outputs": [],
   "source": [
    "#Parse date and time\n",
    "df_adate = pd.read_csv(dataSource, parse_dates=[['DATE','TIME']])\n",
    "df_adate.head(n=5)"
   ]
  },
  {
   "cell_type": "code",
   "execution_count": null,
   "metadata": {
    "collapsed": true
   },
   "outputs": [],
   "source": [
    "#Plot data\n",
    "ax = df_adate.head(n=10).plot.bar(x='DATE_TIME', y='NUMBER OF PERSONS INJURED', rot=90)\n",
    "ax.xlabel('Date')\n",
    "ax.set_title(\"NY Number of Persons Injured from Vehicle Incidents\")"
   ]
  },
  {
   "cell_type": "code",
   "execution_count": null,
   "metadata": {
    "collapsed": true
   },
   "outputs": [],
   "source": []
  }
 ],
 "metadata": {
  "kernelspec": {
   "display_name": "PUI2016_Python2",
   "language": "python",
   "name": "pui2016_python2"
  },
  "language_info": {
   "codemirror_mode": {
    "name": "ipython",
    "version": 2
   },
   "file_extension": ".py",
   "mimetype": "text/x-python",
   "name": "python",
   "nbconvert_exporter": "python",
   "pygments_lexer": "ipython2",
   "version": "2.7.12"
  }
 },
 "nbformat": 4,
 "nbformat_minor": 0
}
