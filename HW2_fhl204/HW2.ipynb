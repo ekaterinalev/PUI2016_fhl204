{
 "cells": [
  {
   "cell_type": "markdown",
   "metadata": {},
   "source": [
    "Homework 2: \n",
    "    https://github.com/fedhere/PUI2016_fb55/tree/master/HW2_fb55\n",
    "\n",
    "Lab Resources:\n",
    "    https://github.com/fedhere/PUI2016_fb55/blob/master/Lab2_fb55/NYCweatherAPI.py\n",
    "    https://github.com/fedhere/PUI2016_fb55/blob/master/Lab2_fb55/APIreadingJson.py.ipynb\n",
    "    https://github.com/fedhere/PUI2016_fb55/blob/master/Lab2_fb55/FormattingTables.ipynb\n",
    "    https://github.com/fedhere/UInotebooks/tree/master/dataWrangling\n",
    "\n",
    "Assignment 1: Script for python show_bus_locations.py MTAAPIKEY BUS_LINE\n",
    "    API key and link from http://bustime.mta.info/wiki/Developers/SIRIVehicleMonitoring\n",
    "\n",
    "Assignment 2: Script for python get_bus_info.py xxxx-xxxx-xxxx-xxxx-xxxx BUS_LINE BUS_LINE.csv\n",
    "\n",
    "Assignment 3: \n",
    "\n",
    "Note: Make sure to rename scripts to include \"_netid\""
   ]
  },
  {
   "cell_type": "code",
   "execution_count": 1,
   "metadata": {
    "collapsed": false
   },
   "outputs": [],
   "source": [
    "from __future__ import print_function\n",
    "import json\n",
    "import urllib2\n",
    "import os\n",
    "import sys\n",
    "import requests\n",
    "import pylab as pl\n",
    "\n",
    "import numpy as np\n",
    "import pandas as pd"
   ]
  },
  {
   "cell_type": "code",
   "execution_count": 7,
   "metadata": {
    "collapsed": false
   },
   "outputs": [
    {
     "name": "stdout",
     "output_type": "stream",
     "text": [
      "Bus Line: B52\n",
      "Number of Active Buses : 9\n",
      "Bus 0 is at latitude -73.922306 and longitude 40.689462\n",
      "Bus 1 is at latitude -73.947765 and longitude 40.686542\n",
      "Bus 2 is at latitude -73.922524 and longitude 40.689437\n",
      "Bus 3 is at latitude -73.956414 and longitude 40.685544\n",
      "Bus 4 is at latitude -73.922739 and longitude 40.689413\n",
      "Bus 5 is at latitude -73.990982 and longitude 40.696187\n",
      "Bus 6 is at latitude -73.984787 and longitude 40.690434\n",
      "Bus 7 is at latitude -73.960631 and longitude 40.687309\n",
      "Bus 8 is at latitude -73.935106 and longitude 40.687997\n"
     ]
    }
   ],
   "source": [
    "#fetch data from MTA\n",
    "apikey = \"b90f3cc1-5567-4fbf-9ef4-843de85a9a07\" #x\n",
    "BUS_LINE = \"B52\"\n",
    "   \n",
    "url = \"http://bustime.mta.info/api/siri/vehicle-monitoring.json?\"\\\n",
    "\"key=\" + apikey + \"&VehicleMonitoringDetailLevel=calls&LineRef=\" + BUS_LINE\n",
    "\n",
    "response = urllib2.urlopen(url)\n",
    "MTAdata = response.read().decode(\"utf-8\")\n",
    "json.loads(MTAdata)\n",
    "#print (MTAdata)\n",
    "\n",
    "#Ser_Del = ServiceDelivery\n",
    "Ser_Del = data['Siri']['ServiceDelivery'] \n",
    "#Veh_Act = VehicleActivity\n",
    "Veh_Act = Ser_Del['VehicleMonitoringDelivery'][0]['VehicleActivity']\n",
    "No_active_bus = len(Veh_Act)\n",
    "\n",
    "print ('Bus Line: %s' %BUS_LINE)\n",
    "print ('Number of Active Buses : %d' %No_active_bus)\n",
    "for i in range(len(Veh_Act)):\n",
    "    Long = Veh_Act[i]['MonitoredVehicleJourney']['VehicleLocation']['Longitude']\n",
    "    Lat = Veh_Act[i]['MonitoredVehicleJourney']['VehicleLocation']['Latitude']\n",
    "    print ('Bus %d is at latitude %r and longitude %r' %(i, Long, Lat))"
   ]
  },
  {
   "cell_type": "code",
   "execution_count": 8,
   "metadata": {
    "collapsed": false
   },
   "outputs": [
    {
     "name": "stdout",
     "output_type": "stream",
     "text": [
      "Bus Line: B52\n",
      "Number of Active Buses : 10\n",
      "Bus 0 is at latitude -73.968932 and longitude 40.686351\n",
      "Bus 1 is at latitude -73.972604 and longitude 40.685927\n",
      "Bus 2 is at latitude -73.915081 and longitude 40.696606\n",
      "Bus 3 is at latitude -73.920633 and longitude 40.690953\n",
      "Bus 4 is at latitude -73.932814 and longitude 40.688264\n",
      "Bus 5 is at latitude -73.972086 and longitude 40.685989\n",
      "Bus 6 is at latitude -73.913321 and longitude 40.698398\n",
      "Bus 7 is at latitude -73.959518 and longitude 40.686428\n",
      "Bus 8 is at latitude -73.915673 and longitude 40.696004\n",
      "Bus 9 is at latitude -73.989065 and longitude 40.692473\n"
     ]
    }
   ],
   "source": [
    "%run show_bus_locations.py b90f3cc1-5567-4fbf-9ef4-843de85a9a07 B52"
   ]
  },
  {
   "cell_type": "code",
   "execution_count": null,
   "metadata": {
    "collapsed": true
   },
   "outputs": [],
   "source": [
    "#Assignment 2\n",
    "\n",
    "#Output to csv\n",
    "\n",
    "from __future__ import print_function\n",
    "import pylab as pl\n",
    "import json\n",
    "import urllib2\n",
    "import os\n",
    "import sys\n",
    "from sys import argv\n",
    "import csv\n",
    "\n",
    "VMD = 'VehicleMonitoringDelivery'\n",
    "VA = 'VehicleActivity'\n",
    "MVJ = 'MonitoredVehicleJourney'\n",
    "VL = 'VehicleLocation'\n",
    "OCs = 'OnwardCalls'\n",
    "OC = 'OnwardCall'\n",
    "PD = 'PresentableDistance'\n",
    "SPN = 'StopPointName'\n",
    "\n",
    "script, apikey, BUS_LINE, BUSCSV = argv\n",
    "fout = open(BUSCSV, \"w+\")\n",
    "fout.write(\"Latitude,Longitude,Stop Name,Stop Status\\n\")\n",
    "if not len(sys.argv) == 4:\n",
    "        print (\"Invalid number of arguments.\")\n",
    "        print (\"Run as: python show_bus_locations.py MTA-KEY BUS-LINE\")\n",
    "\n",
    "url = \"http://bustime.mta.info/api/siri/vehicle-monitoring.json?\\\n",
    "key=\" + apikey + \"&VehicleMonitoringDetailLevel=calls&LineRef=\" + BUS_LINE\n",
    "#print (url)\n",
    "\n",
    "#url = \"http://bustime.mta.info/api/siri/vehicle-monitoring.json?key\n",
    "#=15631ece-ce07-4e77-87b4-d82e87563051&VehicleMonitoringDetailLevel=calls&LineRef=B52\"\n",
    "\n",
    "response = urllib2.urlopen(url)\n",
    "data = response.read().decode(\"utf-8\")\n",
    "data = json.loads(data)\n",
    "#print (type(data))\n",
    "#print (data)\n",
    "\n",
    "va = data['Siri']['ServiceDelivery'][VMD][0][VA]\n",
    "No_active_bus = len(va)\n",
    "#print ('Bus Line: %s' %BUS_LINE)\n",
    "#print ('Number of Active Buses : %d' %No_active_bus)\n",
    "\n",
    "for i in range(len(va)):\n",
    "    Long = va[i][MVJ][VL]['Longitude']\n",
    "    Lat = va[i][MVJ][VL]['Latitude']\n",
    "    if va[i][MVJ][OCs] == '':\n",
    "        Pstop == 'N/A'\n",
    "        StopName == 'N/A'\n",
    "    else:\n",
    "        PStop = va[i][MVJ][OCs][OC][0]['Extensions']['Distances'][PD]\n",
    "        StopName = va[i][MVJ][OCs][OC][0][SPN]\n",
    "    fout.write(\"%s,%s,%s,%s\\n\" %(Lat, Long, StopName, PStop))\n",
    "\n",
    "fout.close()\n",
    "with open(BUSCSV, 'r') as f:\n",
    "    reader = csv.reader(f)\n",
    "    for row in reader:\n",
    "    \tprint (row)"
   ]
  },
  {
   "cell_type": "code",
   "execution_count": 10,
   "metadata": {
    "collapsed": false
   },
   "outputs": [
    {
     "name": "stdout",
     "output_type": "stream",
     "text": [
      "['Latitude', 'Longitude', 'Stop Name', 'Stop Status']\n",
      "['40.686359', '-73.968863', 'GREENE AV/VANDERBILT AV', 'at stop']\n",
      "['40.686919', '-73.944482', 'GATES AV/TOMPKINS AV', 'at stop']\n",
      "['40.693977', '-73.917664', 'GATES AV/CENTRAL AV', 'approaching']\n",
      "['40.687575', '-73.938796', 'GATES AV/MARCUS GARVEY BL', 'approaching']\n",
      "['40.696153', '-73.990075', 'Tillary St (not used)', 'approaching']\n",
      "['40.688279', '-73.932679', 'GATES AV/STUYVESANT AV', 'approaching']\n",
      "['40.686672', '-73.966134', 'GREENE AV/WASHINGTON AV', 'approaching']\n",
      "['40.692807', '-73.990846', 'CADMAN PLZ W/MONTAGUE ST', 'approaching']\n",
      "['40.693379', '-73.918251', 'GATES AV/CENTRAL AV', 'approaching']\n"
     ]
    }
   ],
   "source": [
    "%run  get_bus_info.py b90f3cc1-5567-4fbf-9ef4-843de85a9a07 B52 B52.csv"
   ]
  },
  {
   "cell_type": "code",
   "execution_count": 11,
   "metadata": {
    "collapsed": false
   },
   "outputs": [
    {
     "data": {
      "text/plain": [
       "[['<!DOCTYPE HTML PUBLIC \"-//IETF//DTD HTML 2.0//EN\">'],\n",
       " ['<html><head>'],\n",
       " ['<title>401 Unauthorized</title>'],\n",
       " ['</head><body>'],\n",
       " ['<h1>Unauthorized</h1>'],\n",
       " ['<p>This server could not verify that you'],\n",
       " ['are authorized to access the document'],\n",
       " ['requested.  Either you supplied the wrong'],\n",
       " ['credentials (e.g.', ' bad password)', ' or your'],\n",
       " [\"browser doesn't understand how to supply\"],\n",
       " ['the credentials required.</p>'],\n",
       " ['</body></html>']]"
      ]
     },
     "execution_count": 11,
     "metadata": {},
     "output_type": "execute_result"
    }
   ],
   "source": [
    "#Assignment 3\n",
    "\n",
    "#Check that an environmental variable DFDATA exists and that it points to \n",
    "#the data facility location /gws/open/NYCOpenData/nycopendata/data/\n",
    "\n",
    "import csv\n",
    "import requests\n",
    "\n",
    "CSV_URL = 'https://datahub.cusp.nyu.edu/dataset/h9gi-nx95/resource/917c29c4-19f1-4a48-8bcd-b14de16551ee'\n",
    "\n",
    "with requests.Session() as s:\n",
    "    download = s.get(CSV_URL)\n",
    "\n",
    "    decoded_content = download.content.decode('utf-8')\n",
    "\n",
    "    cr = csv.reader(decoded_content.splitlines(), delimiter=',')\n",
    "    csvData = list(cr)\n",
    "csvData\n"
   ]
  },
  {
   "cell_type": "markdown",
   "metadata": {
    "collapsed": true
   },
   "source": [
    "Extra Credit\n",
    "\n",
    "Dataset: https://datahub.cusp.nyu.edu/dataset/5b3a-rs48/resource/66c0406b-0500-453a-a7a1-95110a0ec974"
   ]
  }
 ],
 "metadata": {
  "kernelspec": {
   "display_name": "PUI2016_Python2",
   "language": "python",
   "name": "pui2016_python2"
  },
  "language_info": {
   "codemirror_mode": {
    "name": "ipython",
    "version": 2
   },
   "file_extension": ".py",
   "mimetype": "text/x-python",
   "name": "python",
   "nbconvert_exporter": "python",
   "pygments_lexer": "ipython2",
   "version": "2.7.12"
  }
 },
 "nbformat": 4,
 "nbformat_minor": 0
}
