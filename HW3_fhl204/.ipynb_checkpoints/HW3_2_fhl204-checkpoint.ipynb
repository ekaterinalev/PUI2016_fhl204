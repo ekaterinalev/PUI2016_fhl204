{
 "cells": [
  {
   "cell_type": "markdown",
   "metadata": {},
   "source": [
    "## Homework 3: Assignment 2\n",
    "INSTRUCTIONS\n",
    "1. States the question you want to ask, and formulates the Null and Alternative hypothesis (remember the confidence level!)\n",
    "2. Use pandas to read in the CitiBike files, either from the DF, or locally, but you must be able to download them on the spot (so the TA can reproduce your work).\n",
    "3. Display the top few rows of the DF in your notebook. This table must be rendered.\n",
    "4. Display the reducted dataframe. This table must be rendered.\n",
    "5. Plot your data distributions."
   ]
  },
  {
   "cell_type": "markdown",
   "metadata": {},
   "source": [
    "## IDEA:\n",
    "Does age of gender affect ridership? (i.e. Are men above age 40 are less likely than women above age 40 to ride a citi bike?)\n",
    "\n",
    "## NULL HYPOTHESIS:\n",
    "The ratio of men above age 40 to men age 40 or below riding a bike is the same or greater than the ratio of women above age 40 to women age 40 or below riding a bike\n",
    "\n",
    "$H_0$ : $\\frac{W_{\\mathrm{above40}}}{W_{\\mathrm{40orbelow}}} &lt;= \\frac{M_{\\mathrm{above05}}}{M_{\\mathrm{40orbelow}}}$\n",
    "\n",
    "$H_1$ : $\\frac{W_{\\mathrm{above40}}}{W_{\\mathrm{40orbelow}}} &gt; \\frac{M_{\\mathrm{above40}}}{M_{\\mathrm{40orbelow}}}$\n",
    "\n",
    "\n",
    "## ALTERNATIVE HYPOTHESIS:\n",
    "The ratio of men above age 40 to men age 40 or below riding a bike is the smaller than the ratio of women above age 40 to women age 40 or below riding a bike.\n",
    "\n",
    "I will use a significance leve $\\alpha=0.05$"
   ]
  },
  {
   "cell_type": "code",
   "execution_count": 45,
   "metadata": {
    "collapsed": false
   },
   "outputs": [],
   "source": [
    "from __future__ import print_function\n",
    "__author__ = 'Franz Loza CUSP 2016'\n",
    "\n",
    "import json\n",
    "import urllib2\n",
    "import csv\n",
    "import requests\n",
    "import sys\n",
    "import os\n",
    "\n",
    "import numpy as np\n",
    "from numpy.random import randn\n",
    "import pylab as pl\n",
    "\n",
    "from pandas import Series, DataFrame\n",
    "import pandas as pd\n",
    "import matplotlib\n",
    "\n",
    "#Citi Bike data location\n",
    "url = \"https://s3.amazonaws.com/tripdata/201501-citibike-tripdata.zip\"\n",
    "%matplotlib inline"
   ]
  },
  {
   "cell_type": "code",
   "execution_count": 30,
   "metadata": {
    "collapsed": true
   },
   "outputs": [],
   "source": [
    "#Alternate dataframe setup approach\n",
    "\n",
    "#import json\n",
    "#path = '.txt'\n",
    "#lines = open(path).readlines()\n",
    "#records = [json.loads(line) for line in lines]\n",
    "\n",
    "#from pandas import DataFrame, Series\n",
    "#import pandas as pd\n",
    "\n",
    "#frame = DataFrame(records)\n",
    "#frame"
   ]
  },
  {
   "cell_type": "code",
   "execution_count": 31,
   "metadata": {
    "collapsed": false
   },
   "outputs": [
    {
     "data": {
      "text/html": [
       "<div>\n",
       "<table border=\"1\" class=\"dataframe\">\n",
       "  <thead>\n",
       "    <tr style=\"text-align: right;\">\n",
       "      <th></th>\n",
       "      <th>tripduration</th>\n",
       "      <th>starttime</th>\n",
       "      <th>stoptime</th>\n",
       "      <th>start station id</th>\n",
       "      <th>start station name</th>\n",
       "      <th>start station latitude</th>\n",
       "      <th>start station longitude</th>\n",
       "      <th>end station id</th>\n",
       "      <th>end station name</th>\n",
       "      <th>end station latitude</th>\n",
       "      <th>end station longitude</th>\n",
       "      <th>bikeid</th>\n",
       "      <th>usertype</th>\n",
       "      <th>birth year</th>\n",
       "      <th>gender</th>\n",
       "    </tr>\n",
       "  </thead>\n",
       "  <tbody>\n",
       "    <tr>\n",
       "      <th>0</th>\n",
       "      <td>1346</td>\n",
       "      <td>1/1/2015 0:01</td>\n",
       "      <td>1/1/2015 0:24</td>\n",
       "      <td>455</td>\n",
       "      <td>1 Ave &amp; E 44 St</td>\n",
       "      <td>40.750020</td>\n",
       "      <td>-73.969053</td>\n",
       "      <td>265</td>\n",
       "      <td>Stanton St &amp; Chrystie St</td>\n",
       "      <td>40.722293</td>\n",
       "      <td>-73.991475</td>\n",
       "      <td>18660</td>\n",
       "      <td>Subscriber</td>\n",
       "      <td>1960.0</td>\n",
       "      <td>2</td>\n",
       "    </tr>\n",
       "    <tr>\n",
       "      <th>1</th>\n",
       "      <td>363</td>\n",
       "      <td>1/1/2015 0:02</td>\n",
       "      <td>1/1/2015 0:08</td>\n",
       "      <td>434</td>\n",
       "      <td>9 Ave &amp; W 18 St</td>\n",
       "      <td>40.743174</td>\n",
       "      <td>-74.003664</td>\n",
       "      <td>482</td>\n",
       "      <td>W 15 St &amp; 7 Ave</td>\n",
       "      <td>40.739355</td>\n",
       "      <td>-73.999318</td>\n",
       "      <td>16085</td>\n",
       "      <td>Subscriber</td>\n",
       "      <td>1963.0</td>\n",
       "      <td>1</td>\n",
       "    </tr>\n",
       "    <tr>\n",
       "      <th>2</th>\n",
       "      <td>346</td>\n",
       "      <td>1/1/2015 0:04</td>\n",
       "      <td>1/1/2015 0:10</td>\n",
       "      <td>491</td>\n",
       "      <td>E 24 St &amp; Park Ave S</td>\n",
       "      <td>40.740964</td>\n",
       "      <td>-73.986022</td>\n",
       "      <td>505</td>\n",
       "      <td>6 Ave &amp; W 33 St</td>\n",
       "      <td>40.749013</td>\n",
       "      <td>-73.988484</td>\n",
       "      <td>20845</td>\n",
       "      <td>Subscriber</td>\n",
       "      <td>1974.0</td>\n",
       "      <td>1</td>\n",
       "    </tr>\n",
       "    <tr>\n",
       "      <th>3</th>\n",
       "      <td>182</td>\n",
       "      <td>1/1/2015 0:04</td>\n",
       "      <td>1/1/2015 0:07</td>\n",
       "      <td>384</td>\n",
       "      <td>Fulton St &amp; Waverly Ave</td>\n",
       "      <td>40.683178</td>\n",
       "      <td>-73.965964</td>\n",
       "      <td>399</td>\n",
       "      <td>Lafayette Ave &amp; St James Pl</td>\n",
       "      <td>40.688515</td>\n",
       "      <td>-73.964763</td>\n",
       "      <td>19610</td>\n",
       "      <td>Subscriber</td>\n",
       "      <td>1969.0</td>\n",
       "      <td>1</td>\n",
       "    </tr>\n",
       "    <tr>\n",
       "      <th>4</th>\n",
       "      <td>969</td>\n",
       "      <td>1/1/2015 0:05</td>\n",
       "      <td>1/1/2015 0:21</td>\n",
       "      <td>474</td>\n",
       "      <td>5 Ave &amp; E 29 St</td>\n",
       "      <td>40.745168</td>\n",
       "      <td>-73.986831</td>\n",
       "      <td>432</td>\n",
       "      <td>E 7 St &amp; Avenue A</td>\n",
       "      <td>40.726218</td>\n",
       "      <td>-73.983799</td>\n",
       "      <td>20197</td>\n",
       "      <td>Subscriber</td>\n",
       "      <td>1977.0</td>\n",
       "      <td>1</td>\n",
       "    </tr>\n",
       "  </tbody>\n",
       "</table>\n",
       "</div>"
      ],
      "text/plain": [
       "   tripduration      starttime       stoptime  start station id  \\\n",
       "0          1346  1/1/2015 0:01  1/1/2015 0:24               455   \n",
       "1           363  1/1/2015 0:02  1/1/2015 0:08               434   \n",
       "2           346  1/1/2015 0:04  1/1/2015 0:10               491   \n",
       "3           182  1/1/2015 0:04  1/1/2015 0:07               384   \n",
       "4           969  1/1/2015 0:05  1/1/2015 0:21               474   \n",
       "\n",
       "        start station name  start station latitude  start station longitude  \\\n",
       "0          1 Ave & E 44 St               40.750020               -73.969053   \n",
       "1          9 Ave & W 18 St               40.743174               -74.003664   \n",
       "2     E 24 St & Park Ave S               40.740964               -73.986022   \n",
       "3  Fulton St & Waverly Ave               40.683178               -73.965964   \n",
       "4          5 Ave & E 29 St               40.745168               -73.986831   \n",
       "\n",
       "   end station id             end station name  end station latitude  \\\n",
       "0             265     Stanton St & Chrystie St             40.722293   \n",
       "1             482              W 15 St & 7 Ave             40.739355   \n",
       "2             505              6 Ave & W 33 St             40.749013   \n",
       "3             399  Lafayette Ave & St James Pl             40.688515   \n",
       "4             432            E 7 St & Avenue A             40.726218   \n",
       "\n",
       "   end station longitude  bikeid    usertype  birth year  gender  \n",
       "0             -73.991475   18660  Subscriber      1960.0       2  \n",
       "1             -73.999318   16085  Subscriber      1963.0       1  \n",
       "2             -73.988484   20845  Subscriber      1974.0       1  \n",
       "3             -73.964763   19610  Subscriber      1969.0       1  \n",
       "4             -73.983799   20197  Subscriber      1977.0       1  "
      ]
     },
     "execution_count": 31,
     "metadata": {},
     "output_type": "execute_result"
    }
   ],
   "source": [
    "from zipfile import ZipFile\n",
    "from StringIO import StringIO\n",
    "import urllib2\n",
    "\n",
    "r = urllib2.urlopen(url).read()\n",
    "file = ZipFile(StringIO(r))\n",
    "citi_csv = file.open(\"201501-citibike-tripdata.csv\")\n",
    "citiDF = pd.read_csv(citi_csv)\n",
    "citiDF.shape\n",
    "citiDF.head(n=5)"
   ]
  },
  {
   "cell_type": "code",
   "execution_count": 32,
   "metadata": {
    "collapsed": false
   },
   "outputs": [
    {
     "data": {
      "text/html": [
       "<div>\n",
       "<table border=\"1\" class=\"dataframe\">\n",
       "  <thead>\n",
       "    <tr style=\"text-align: right;\">\n",
       "      <th></th>\n",
       "      <th>usertype</th>\n",
       "      <th>gender</th>\n",
       "      <th>tripduration</th>\n",
       "      <th>birth year</th>\n",
       "    </tr>\n",
       "  </thead>\n",
       "  <tbody>\n",
       "    <tr>\n",
       "      <th>0</th>\n",
       "      <td>Subscriber</td>\n",
       "      <td>2</td>\n",
       "      <td>1346</td>\n",
       "      <td>1960.0</td>\n",
       "    </tr>\n",
       "    <tr>\n",
       "      <th>1</th>\n",
       "      <td>Subscriber</td>\n",
       "      <td>1</td>\n",
       "      <td>363</td>\n",
       "      <td>1963.0</td>\n",
       "    </tr>\n",
       "    <tr>\n",
       "      <th>2</th>\n",
       "      <td>Subscriber</td>\n",
       "      <td>1</td>\n",
       "      <td>346</td>\n",
       "      <td>1974.0</td>\n",
       "    </tr>\n",
       "    <tr>\n",
       "      <th>3</th>\n",
       "      <td>Subscriber</td>\n",
       "      <td>1</td>\n",
       "      <td>182</td>\n",
       "      <td>1969.0</td>\n",
       "    </tr>\n",
       "    <tr>\n",
       "      <th>4</th>\n",
       "      <td>Subscriber</td>\n",
       "      <td>1</td>\n",
       "      <td>969</td>\n",
       "      <td>1977.0</td>\n",
       "    </tr>\n",
       "  </tbody>\n",
       "</table>\n",
       "</div>"
      ],
      "text/plain": [
       "     usertype  gender  tripduration  birth year\n",
       "0  Subscriber       2          1346      1960.0\n",
       "1  Subscriber       1           363      1963.0\n",
       "2  Subscriber       1           346      1974.0\n",
       "3  Subscriber       1           182      1969.0\n",
       "4  Subscriber       1           969      1977.0"
      ]
     },
     "execution_count": 32,
     "metadata": {},
     "output_type": "execute_result"
    }
   ],
   "source": [
    "#Truncate number of columns\n",
    "'''#All fields \n",
    "col_list=['tripduration', 'starttime', 'stoptime', 'start station id', 'start station name', \\\n",
    "          'start station latitude', 'start station longitude', 'end station id', 'end station name', \\\n",
    "          'end station latitude', 'end station longitude', 'bikeid', 'usertype', 'birth year', 'gender'] \n",
    "'''\n",
    "col_list=['usertype', 'gender', 'tripduration','birth year']\n",
    "citiDF_short = citiDF[col_list]\n",
    "#citiDF_short.head(n=5)\n",
    "#citiDF_short[:5]\n",
    "citiDF_short.head()"
   ]
  },
  {
   "cell_type": "code",
   "execution_count": 33,
   "metadata": {
    "collapsed": false
   },
   "outputs": [
    {
     "data": {
      "text/html": [
       "<div>\n",
       "<table border=\"1\" class=\"dataframe\">\n",
       "  <thead>\n",
       "    <tr style=\"text-align: right;\">\n",
       "      <th></th>\n",
       "      <th>usertype</th>\n",
       "      <th>gender</th>\n",
       "      <th>tripduration</th>\n",
       "      <th>birth year</th>\n",
       "    </tr>\n",
       "  </thead>\n",
       "  <tbody>\n",
       "    <tr>\n",
       "      <th>0</th>\n",
       "      <td>Subscriber</td>\n",
       "      <td>2</td>\n",
       "      <td>1346</td>\n",
       "      <td>1960.0</td>\n",
       "    </tr>\n",
       "    <tr>\n",
       "      <th>1</th>\n",
       "      <td>Subscriber</td>\n",
       "      <td>1</td>\n",
       "      <td>363</td>\n",
       "      <td>1963.0</td>\n",
       "    </tr>\n",
       "    <tr>\n",
       "      <th>2</th>\n",
       "      <td>Subscriber</td>\n",
       "      <td>1</td>\n",
       "      <td>346</td>\n",
       "      <td>1974.0</td>\n",
       "    </tr>\n",
       "    <tr>\n",
       "      <th>3</th>\n",
       "      <td>Subscriber</td>\n",
       "      <td>1</td>\n",
       "      <td>182</td>\n",
       "      <td>1969.0</td>\n",
       "    </tr>\n",
       "    <tr>\n",
       "      <th>4</th>\n",
       "      <td>Subscriber</td>\n",
       "      <td>1</td>\n",
       "      <td>969</td>\n",
       "      <td>1977.0</td>\n",
       "    </tr>\n",
       "  </tbody>\n",
       "</table>\n",
       "</div>"
      ],
      "text/plain": [
       "     usertype  gender  tripduration  birth year\n",
       "0  Subscriber       2          1346      1960.0\n",
       "1  Subscriber       1           363      1963.0\n",
       "2  Subscriber       1           346      1974.0\n",
       "3  Subscriber       1           182      1969.0\n",
       "4  Subscriber       1           969      1977.0"
      ]
     },
     "execution_count": 33,
     "metadata": {},
     "output_type": "execute_result"
    }
   ],
   "source": [
    "citiDF_cust = citiDF_short[citiDF_short.usertype != 'Customer']\n",
    "citiDF_cust.head()"
   ]
  },
  {
   "cell_type": "code",
   "execution_count": 55,
   "metadata": {
    "collapsed": false
   },
   "outputs": [
    {
     "data": {
      "text/plain": [
       "birth year\n",
       "False    118287\n",
       "True     109477\n",
       "Name: birth year, dtype: int64"
      ]
     },
     "execution_count": 55,
     "metadata": {},
     "output_type": "execute_result"
    }
   ],
   "source": [
    "citiDF_Mabove40 = (citiDF_cust['birth year'][citiDF_cust['gender'] == 1]).groupby(citiDF_cust['birth year'] < 1976.0).count()\n",
    "citiDF_Mabove40"
   ]
  },
  {
   "cell_type": "code",
   "execution_count": 56,
   "metadata": {
    "collapsed": false
   },
   "outputs": [],
   "source": [
    "error_m = np.sqrt(citiDF_Mabove40)"
   ]
  },
  {
   "cell_type": "code",
   "execution_count": 57,
   "metadata": {
    "collapsed": false
   },
   "outputs": [
    {
     "data": {
      "text/plain": [
       "birth year\n",
       "False    31229\n",
       "True     20864\n",
       "Name: birth year, dtype: int64"
      ]
     },
     "execution_count": 57,
     "metadata": {},
     "output_type": "execute_result"
    }
   ],
   "source": [
    "citiDF_Wabove40 = (citiDF_cust['birth year'][citiDF_cust['gender'] == 2]).groupby(citiDF_cust['birth year'] < 1975.0).count()\n",
    "citiDF_Wabove40"
   ]
  },
  {
   "cell_type": "code",
   "execution_count": 58,
   "metadata": {
    "collapsed": true
   },
   "outputs": [],
   "source": [
    "error_w = np.sqrt(citiDF_Wabove40)"
   ]
  },
  {
   "cell_type": "code",
   "execution_count": 59,
   "metadata": {
    "collapsed": false
   },
   "outputs": [
    {
     "data": {
      "text/plain": [
       "<matplotlib.legend.Legend at 0x7eff6daa57d0>"
      ]
     },
     "execution_count": 59,
     "metadata": {},
     "output_type": "execute_result"
    },
    {
     "data": {
      "image/png": "[encoded data removed]",
      "text/plain": [
       "<matplotlib.figure.Figure at 0x7effccb76fd0>"
      ]
     },
     "metadata": {},
     "output_type": "display_data"
    }
   ],
   "source": [
    "fig = pl.figure(figsize=(10,5))\n",
    "norm_w = 1\n",
    "norm_m = 1\n",
    "ax=((citiDF_Mabove40) / norm_m).plot(kind=\"bar\", yerr=[\n",
    "            ((error_m) / norm_m, (error_m) / norm_m)], alpha=0.5, rot=0, label='men bikers')\n",
    "\n",
    "((citiDF_Wabove40) / norm_w).plot(kind=\"bar\",  color='IndianRed', alpha=0.5, rot=0, yerr=[\n",
    "            ((error_w) / norm_w, (error_w) / norm_w)], label='women bikers')\n",
    "\n",
    "ax.xaxis.set_ticklabels(['age 40 or below','age above 40'], fontsize=15)\n",
    "ax.set_ylabel (\"Number of rides\", fontsize=20)\n",
    "ax.set_xlabel (\"Age\", fontsize=20)\n",
    "pl.legend(['men bikers','women bikers'], loc='best', fontsize=15)"
   ]
  },
  {
   "cell_type": "markdown",
   "metadata": {},
   "source": [
    "## Figure 1: Distribution of Citibike bikers by Age in January 2015, absolute counts"
   ]
  },
  {
   "cell_type": "code",
   "execution_count": 48,
   "metadata": {
    "collapsed": false
   },
   "outputs": [
    {
     "data": {
      "text/plain": [
       "<matplotlib.legend.Legend at 0x7eff6dc7ca90>"
      ]
     },
     "execution_count": 48,
     "metadata": {},
     "output_type": "execute_result"
    },
    {
     "data": {
      "image/png": "[encoded data removed]",
      "text/plain": [
       "<matplotlib.figure.Figure at 0x7eff6dd268d0>"
      ]
     },
     "metadata": {},
     "output_type": "display_data"
    }
   ],
   "source": [
    "fig = pl.figure(figsize=(10,5))\n",
    "norm_m = citiDF_Mabove40.sum()\n",
    "ax=((citiDF_Mabove40) / norm_m).plot(kind=\"bar\", color='Blue', yerr=[\n",
    "            ((error_m) / norm_m, (error_m) / norm_m)], alpha=0.5, rot=0, label='men bikers')\n",
    "norm_w = citiDF_Wabove40.sum()\n",
    "\n",
    "((citiDF_Wabove40) / norm_w).plot(kind=\"bar\",  color='IndianRed', alpha=0.4, rot=0, yerr=[\n",
    "            ((error_w) / norm_w, (error_w) / norm_w)], label='women bikers')\n",
    "\n",
    "ax.xaxis.set_ticklabels(['age 40 or below','age above 40'], fontsize=15)\n",
    "ax.set_ylabel (\"Fractions of rides\", fontsize=20)\n",
    "ax.set_xlabel (\"Age\", fontsize=20)\n",
    "pl.legend(['men bikers','women bikers'], loc='best', fontsize=15)"
   ]
  },
  {
   "cell_type": "markdown",
   "metadata": {},
   "source": [
    "## Figure 2: Distribution of Citibike bikers by age in January 2015, normalized"
   ]
  },
  {
   "cell_type": "code",
   "execution_count": 60,
   "metadata": {
    "collapsed": false
   },
   "outputs": [
    {
     "ename": "TypeError",
     "evalue": "'numpy.int64' object is not iterable",
     "output_type": "error",
     "traceback": [
      "\u001b[0;31m\u001b[0m",
      "\u001b[0;31mTypeError\u001b[0mTraceback (most recent call last)",
      "\u001b[0;32m<ipython-input-60-3165414c1523>\u001b[0m in \u001b[0;36m<module>\u001b[0;34m()\u001b[0m\n\u001b[0;32m----> 1\u001b[0;31m \u001b[0msum\u001b[0m\u001b[0;34m(\u001b[0m\u001b[0mcitiDF_Mabove40\u001b[0m\u001b[0;34m[\u001b[0m\u001b[0;36m1\u001b[0m\u001b[0;34m]\u001b[0m\u001b[0;34m)\u001b[0m\u001b[0;34m\u001b[0m\u001b[0m\n\u001b[0m",
      "\u001b[0;31mTypeError\u001b[0m: 'numpy.int64' object is not iterable"
     ]
    }
   ],
   "source": [
    "sum(citiDF_Mabove40[1])"
   ]
  },
  {
   "cell_type": "code",
   "execution_count": 51,
   "metadata": {
    "collapsed": false
   },
   "outputs": [
    {
     "ename": "TypeError",
     "evalue": "'numpy.int64' object is not iterable",
     "output_type": "error",
     "traceback": [
      "\u001b[0;31m\u001b[0m",
      "\u001b[0;31mTypeError\u001b[0mTraceback (most recent call last)",
      "\u001b[0;32m<ipython-input-51-831d9354e779>\u001b[0m in \u001b[0;36m<module>\u001b[0;34m()\u001b[0m\n\u001b[1;32m      5\u001b[0m \u001b[0max2\u001b[0m\u001b[0;34m.\u001b[0m\u001b[0mset_xticks\u001b[0m\u001b[0;34m(\u001b[0m\u001b[0;34m[\u001b[0m\u001b[0;34m]\u001b[0m\u001b[0;34m)\u001b[0m\u001b[0;34m\u001b[0m\u001b[0m\n\u001b[1;32m      6\u001b[0m \u001b[0;34m\u001b[0m\u001b[0m\n\u001b[0;32m----> 7\u001b[0;31m \u001b[0mm_above40\u001b[0m \u001b[0;34m=\u001b[0m \u001b[0msum\u001b[0m\u001b[0;34m(\u001b[0m\u001b[0mcitiDF_Mabove40\u001b[0m\u001b[0;34m[\u001b[0m\u001b[0;36m1\u001b[0m\u001b[0;34m]\u001b[0m\u001b[0;34m)\u001b[0m \u001b[0;34m*\u001b[0m \u001b[0;36m1.0\u001b[0m \u001b[0;34m/\u001b[0m \u001b[0mnorm_m\u001b[0m\u001b[0;34m\u001b[0m\u001b[0m\n\u001b[0m\u001b[1;32m      8\u001b[0m \u001b[0mm_40orbelow\u001b[0m \u001b[0;34m=\u001b[0m \u001b[0msum\u001b[0m\u001b[0;34m(\u001b[0m\u001b[0mcitiDF_Mabove40\u001b[0m\u001b[0;34m[\u001b[0m\u001b[0;36m0\u001b[0m\u001b[0;34m]\u001b[0m\u001b[0;34m)\u001b[0m \u001b[0;34m*\u001b[0m \u001b[0;36m1.0\u001b[0m \u001b[0;34m/\u001b[0m \u001b[0mnorm_m\u001b[0m\u001b[0;34m\u001b[0m\u001b[0m\n\u001b[1;32m      9\u001b[0m \u001b[0meAbove40_m\u001b[0m \u001b[0;34m=\u001b[0m \u001b[0mnp\u001b[0m\u001b[0;34m.\u001b[0m\u001b[0msqrt\u001b[0m\u001b[0;34m(\u001b[0m\u001b[0msum\u001b[0m\u001b[0;34m(\u001b[0m\u001b[0merror_m\u001b[0m\u001b[0;34m[\u001b[0m\u001b[0;36m1\u001b[0m\u001b[0;34m]\u001b[0m\u001b[0;34m**\u001b[0m\u001b[0;36m2\u001b[0m\u001b[0;34m)\u001b[0m\u001b[0;34m)\u001b[0m \u001b[0;34m/\u001b[0m \u001b[0mnorm_m\u001b[0m\u001b[0;34m\u001b[0m\u001b[0m\n",
      "\u001b[0;31mTypeError\u001b[0m: 'numpy.int64' object is not iterable"
     ]
    },
    {
     "data": {
      "image/png": "[encoded data removed]",
      "text/plain": [
       "<matplotlib.figure.Figure at 0x7effccce2610>"
      ]
     },
     "metadata": {},
     "output_type": "display_data"
    }
   ],
   "source": [
    "fig = pl.figure(figsize=(15,6))\n",
    "ax1 = fig.add_subplot(121)\n",
    "ax2 = fig.add_subplot(122)\n",
    "ax1.set_xticks([])\n",
    "ax2.set_xticks([])\n",
    "\n",
    "m_above40 = sum(citiDF_Mabove40[1]) * 1.0 / norm_m\n",
    "m_40orbelow = sum(citiDF_Mabove40[0]) * 1.0 / norm_m\n",
    "eAbove40_m = np.sqrt(sum(error_m[1]**2)) / norm_m\n",
    "e40orbelow_m = np.sqrt(sum(error_m[0]**2)) / norm_m\n",
    "\n",
    "w_above40 = sum(citiDF_Wabove40[1]) * 1.0 / norm_w\n",
    "w_40orbelow = sum(citiDF_Wabove40[0]) * 1.0 / norm_w\n",
    "eAbove40_w = np.sqrt(sum(error_w[1]**2)) / norm_w\n",
    "e40orbelow_w = np.sqrt(sum(error_w[0]**2)) / norm_w\n",
    "\n",
    "print(\"Men: above age 40:{0:.3f}, age 40 or below:{1:.3f}, above age 40 error:{2:.3f}, age 40 or below error:{3:.3f}\"\\\n",
    "      .format(m_above40, m_40orbelow, eAbove40_m, e40orbelow_m))\n",
    "print(\"Women: above age 40:{0:.3f}, age 40 or below:{1:.3f}, above age 40 error:{2:.3f}, age 40 or below error:{3:.3f}\"\\\n",
    "      .format(w_above40, w_40orbelow, eAbove40_w, e40orbelow_w))\n",
    "\n",
    "ax1.errorbar([0.4], [m_above40], yerr=[eAbove40_m], fmt='o', label='men')\n",
    "ax1.errorbar([0.2], [w_above40], yerr=[eAbove40_w], fmt='o', label='women')\n",
    "ax1.set_xlim(0, 0.5)\n",
    "ax2.errorbar([0.4], [m_40orbelow], yerr=[e40orbelow_m], fmt='o', label='men')\n",
    "ax2.errorbar([0.2], [w_40orbelow], yerr=[e40orbelow_w], fmt='o', label='women')\n",
    "ax1.set_xlim(0, 0.5)\n",
    "ax1.set_title(\"Above age 40\")\n",
    "ax2.set_title(\"Age 40 or below\")\n",
    "ax2.set_ylabel(\"Fraction of normalized rides by age\", fontsize = 20)\n",
    "ax1.set_ylabel(\"Fraction of normalized rides by age\", fontsize = 20)\n",
    "\n",
    "pl.xlim(-0.5, 1.5)\n",
    "pl.legend(fontsize = 20)"
   ]
  },
  {
   "cell_type": "code",
   "execution_count": null,
   "metadata": {
    "collapsed": true
   },
   "outputs": [],
   "source": []
  }
 ],
 "metadata": {
  "kernelspec": {
   "display_name": "PUI2016_Python2",
   "language": "python",
   "name": "pui2016_python2"
  },
  "language_info": {
   "codemirror_mode": {
    "name": "ipython",
    "version": 2
   },
   "file_extension": ".py",
   "mimetype": "text/x-python",
   "name": "python",
   "nbconvert_exporter": "python",
   "pygments_lexer": "ipython2",
   "version": "2.7.12"
  }
 },
 "nbformat": 4,
 "nbformat_minor": 0
}
