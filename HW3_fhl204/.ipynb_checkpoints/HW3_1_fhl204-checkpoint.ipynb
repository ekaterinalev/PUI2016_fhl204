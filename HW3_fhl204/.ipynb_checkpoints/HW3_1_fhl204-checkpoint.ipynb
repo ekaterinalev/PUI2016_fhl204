{
 "cells": [
  {
   "cell_type": "markdown",
   "metadata": {},
   "source": [
    "1. GENERATE 100 samples of different sizes N (N>10 & N<2000) from each of 5 different distributions (500 samples in total), \n",
    "all with the same population mean. Include a Normal, a Poisson, a Binomial, a Chi-Squared distribution, and 1 more of your choice.\n",
    "2. For each sample plot the sample mean (dependent var.) against the sample size N (independent var.) (if you want you can do it with the sample standard deviation as well).\n",
    "3. Describe the behavior you see in the plots in terms of the law of large numbers.\n",
    "4. PLOT the distributions of all sample means (together for all distributions). Mandatory: as a histogram. Optional: in any other way you think is convincing ## Extra Credit: FIT a gaussian to the distribution of means"
   ]
  },
  {
   "cell_type": "code",
   "execution_count": 4,
   "metadata": {
    "collapsed": false
   },
   "outputs": [
    {
     "name": "stdout",
     "output_type": "stream",
     "text": [
      "Populating the interactive namespace from numpy and matplotlib\n"
     ]
    }
   ],
   "source": [
    "from __future__ import print_function\n",
    "__author__= 'Franz Loza'\n",
    "\n",
    "import pylab as pl\n",
    "# this package sets up pretty plots\n",
    "#import seaborn\n",
    "from scipy.optimize import curve_fit, minimize\n",
    "import numpy as np\n",
    "\n",
    "%pylab inline\n",
    "\n",
    "#Seaborn not working in python 2 or 3"
   ]
  },
  {
   "cell_type": "code",
   "execution_count": null,
   "metadata": {
    "collapsed": false
   },
   "outputs": [
    {
     "data": {
      "text/plain": [
       "<matplotlib.text.Text at 0x7f29600d6410>"
      ]
     },
     "execution_count": 12,
     "metadata": {},
     "output_type": "execute_result"
    },
    {
     "data": {
      "image/png": "[encoded data removed]",
      "text/plain": [
       "<matplotlib.figure.Figure at 0x7f296023f050>"
      ]
     },
     "metadata": {},
     "output_type": "display_data"
    }
   ],
   "source": [
    "#distributions = ['pois', 'gaus', 'chisq', 'cauchy', 'lnorm', 'binomial']\n",
    "distributions = ['chisq']\n",
    "dist = 'chisq'\n",
    "mymean = 100\n",
    "dfsize = 100\n",
    "nsize  = 100\n",
    "# the chi sq distribution takes the number of degrees of freedom, which luckily is the same as the mean!\n",
    "df = mymean\n",
    "\n",
    "#Chi Square\n",
    "md = {}\n",
    "# md is an empty dictionary\n",
    "md[dist] = np.random.chisquare(df, size=dfsize)\n",
    "# md now is a dictionary with one object: an array by the key 'chisq'\n",
    "pl.hist(md[dist], bins = 30)\n",
    "pl.ylabel('N')\n",
    "pl.xlabel('x')\n",
    "pl.title(dist + ' distribution: df=' + str(dfsize) + ', N=' + str(nsize))"
   ]
  },
  {
   "cell_type": "code",
   "execution_count": null,
   "metadata": {
    "collapsed": true
   },
   "outputs": [],
   "source": []
  }
 ],
 "metadata": {
  "kernelspec": {
   "display_name": "PUI2016_Python2",
   "language": "python",
   "name": "pui2016_python2"
  },
  "language_info": {
   "codemirror_mode": {
    "name": "ipython",
    "version": 2
   },
   "file_extension": ".py",
   "mimetype": "text/x-python",
   "name": "python",
   "nbconvert_exporter": "python",
   "pygments_lexer": "ipython2",
   "version": "2.7.12"
  }
 },
 "nbformat": 4,
 "nbformat_minor": 0
}
