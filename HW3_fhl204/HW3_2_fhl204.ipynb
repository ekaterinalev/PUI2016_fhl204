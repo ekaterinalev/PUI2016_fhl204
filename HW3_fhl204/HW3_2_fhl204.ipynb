{
 "cells": [
  {
   "cell_type": "markdown",
   "metadata": {},
   "source": [
    "1. States the question you want to ask, and formulates the Null and Alternative hypothesis (remember the confidence level!)\n",
    "2. Use pandas to read in the CitiBike files, either from the DF, or locally, but you must be able to download them on the spot (so the TA can reproduce your work).\n",
    "3. Display the top few rows of the DF in your notebook. This table must be rendered.\n",
    "4. Display the reducted dataframe. This table must be rendered.\n",
    "5. Plot your data distributions."
   ]
  },
  {
   "cell_type": "markdown",
   "metadata": {},
   "source": [
    "Question: What age groups have the most active trip duration?\n",
    "Null Hypothesis: \n",
    "Alternate Hypothesis: "
   ]
  },
  {
   "cell_type": "code",
   "execution_count": null,
   "metadata": {
    "collapsed": true
   },
   "outputs": [],
   "source": [
    "from __future__ import print_function\n",
    "__author__ = 'Franz Loza CUSP 2016'\n",
    "import csv\n",
    "import requests\n",
    "import sys\n",
    "import os\n",
    "\n",
    "import numpy as np\n",
    "from numpy.random import randn\n",
    "import pylab as pl\n",
    "\n",
    "from pandas import Series, DataFrame\n",
    "import pandas\n",
    "import pandas as pd\n",
    "import matplotlib\n",
    "\n",
    "#Check that an environmental variable DFDATA exists and that it points to \n",
    "#the data facility location /gws/open/NYCOpenData/nycopendata/data/\n",
    "print (os.environ.get('DFDATA'))\n",
    "\n",
    "PUIdata = os.getenv(\"PUIDATA\")\n",
    "print (PUIdata)\n",
    "\n",
    "#Get Citibike DF location\n",
    "cuspdfloc = \"/h9gi-nx95/1448475295/h9gi-nx95\"\n",
    "dataSource = dataDirect + cuspdfloc\n",
    "print (dataDirect)\n",
    "print (dataSource)"
   ]
  },
  {
   "cell_type": "code",
   "execution_count": null,
   "metadata": {
    "collapsed": true
   },
   "outputs": [],
   "source": [
    "#Pull top 5 rows\n",
    "df_citibike = pd.read_csv(dataSource)\n",
    "df_citibike.head(n=5)"
   ]
  },
  {
   "cell_type": "code",
   "execution_count": null,
   "metadata": {
    "collapsed": true
   },
   "outputs": [],
   "source": [
    "#Truncate number of columns\n",
    "col_list=['tripduration', 'starttime', 'stoptime', 'start station id', 'start station name', \\\n",
    "          'start station latitude', 'start station longitude', 'end station id', 'end station name', \\\n",
    "          'end station latitude', 'end station longitude', 'bikeid', 'usertype', 'birth year', 'gender'] \n",
    "df_cbsmall = df_citibike[col_list]\n",
    "df_cbsmall.head(n=5)"
   ]
  },
  {
   "cell_type": "code",
   "execution_count": null,
   "metadata": {
    "collapsed": true
   },
   "outputs": [],
   "source": [
    "#Plot data\n",
    "ax = df_adate.head(n=100).plot.bar(x='birth year', y='tripduration', rot=90)\n",
    "ax.set_xlabel('Birth Year')\n",
    "ax.set_title(\"Citibike Trip Duration by Birth Year\")"
   ]
  }
 ],
 "metadata": {
  "kernelspec": {
   "display_name": "PUI2016_Python2",
   "language": "python",
   "name": "pui2016_python2"
  },
  "language_info": {
   "codemirror_mode": {
    "name": "ipython",
    "version": 2
   },
   "file_extension": ".py",
   "mimetype": "text/x-python",
   "name": "python",
   "nbconvert_exporter": "python",
   "pygments_lexer": "ipython2",
   "version": "2.7.12"
  }
 },
 "nbformat": 4,
 "nbformat_minor": 0
}
