{
 "cells": [
  {
   "cell_type": "markdown",
   "metadata": {},
   "source": [
    "## Z-Test Score"
   ]
  },
  {
   "cell_type": "code",
   "execution_count": 4,
   "metadata": {
    "collapsed": true
   },
   "outputs": [],
   "source": [
    "from __future__ import print_function\n",
    "__author__ = 'Franz Loza CUSP 2016'\n",
    "import csv\n",
    "import requests\n",
    "import sys\n",
    "import os\n",
    "\n",
    "import numpy as np\n",
    "from numpy.random import randn\n",
    "import pylab as pl\n",
    "import pandas as pd"
   ]
  },
  {
   "cell_type": "code",
   "execution_count": 2,
   "metadata": {
    "collapsed": false
   },
   "outputs": [],
   "source": [
    "data = !curl -O https://raw.githubusercontent.com/fedhere/PUI2016_fb55/master/Lab3_fb55/times.txt"
   ]
  },
  {
   "cell_type": "code",
   "execution_count": 5,
   "metadata": {
    "collapsed": false
   },
   "outputs": [
    {
     "data": {
      "text/plain": [
       "0    34.466162\n",
       "dtype: float64"
      ]
     },
     "execution_count": 5,
     "metadata": {},
     "output_type": "execute_result"
    }
   ],
   "source": [
    "#Given: ~N(u=36,o=6)\n",
    "Told_mean = 36\n",
    "Told_std = 6\n",
    "\n",
    "busdata = pd.read_csv('times.txt', sep=\" \", header = None, )\n",
    "#busdata\n",
    "Tnew_Mean = busdata.mean()\n",
    "#busdata.describe()\n",
    "Tnew_Mean"
   ]
  },
  {
   "cell_type": "markdown",
   "metadata": {},
   "source": [
    "## Tnew or the new average commute time is 34.466162 which is less than the average of the old bus route."
   ]
  },
  {
   "cell_type": "code",
   "execution_count": 5,
   "metadata": {
    "collapsed": false
   },
   "outputs": [
    {
     "data": {
      "text/plain": [
       "<function matplotlib.pyplot.show>"
      ]
     },
     "execution_count": 5,
     "metadata": {},
     "output_type": "execute_result"
    }
   ],
   "source": [
    "#pl.hist(busdata)\n",
    "pl.plot(busdata,\".\")\n",
    "pl.show\n",
    "\n",
    "#is the new route taking the same or less time than before\n",
    "#take mean of old time and old time\n",
    "#difference of two means comparable to these 2 standard deviations\n",
    "#demominator \n",
    "#=z is the standard deviation away from the mean (when you are testing 2 means that are gaussian)\n",
    "#reject the null hypothesis\n",
    "# mean of the sample = xbar\n",
    "# mean of sample and mean of \n",
    "\n",
    "#if number is greater than threshold --> reject null hypothesis"
   ]
  },
  {
   "cell_type": "code",
   "execution_count": 6,
   "metadata": {
    "collapsed": false
   },
   "outputs": [
    {
     "data": {
      "text/plain": [
       "0    7.13728\n",
       "dtype: float64"
      ]
     },
     "execution_count": 6,
     "metadata": {},
     "output_type": "execute_result"
    }
   ],
   "source": [
    "busdata.std()"
   ]
  },
  {
   "cell_type": "code",
   "execution_count": 7,
   "metadata": {
    "collapsed": false
   },
   "outputs": [
    {
     "data": {
      "text/plain": [
       "0   -2.556397\n",
       "dtype: float64"
      ]
     },
     "execution_count": 7,
     "metadata": {},
     "output_type": "execute_result"
    }
   ],
   "source": [
    "z_score = (Tnew_Mean-Told_mean)/(Told_std/np.sqrt(len(busdata)))\n",
    "z_score"
   ]
  },
  {
   "cell_type": "markdown",
   "metadata": {},
   "source": [
    "## Since the z score is greater than 2 standard deviation from the mean thus surpassing the threshold, we can reject the null hypothesis."
   ]
  },
  {
   "cell_type": "code",
   "execution_count": null,
   "metadata": {
    "collapsed": true
   },
   "outputs": [],
   "source": []
  }
 ],
 "metadata": {
  "kernelspec": {
   "display_name": "PUI2016_Python2",
   "language": "python",
   "name": "pui2016_python2"
  },
  "language_info": {
   "codemirror_mode": {
    "name": "ipython",
    "version": 2
   },
   "file_extension": ".py",
   "mimetype": "text/x-python",
   "name": "python",
   "nbconvert_exporter": "python",
   "pygments_lexer": "ipython2",
   "version": "2.7.12"
  }
 },
 "nbformat": 4,
 "nbformat_minor": 0
}
